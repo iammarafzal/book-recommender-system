{
 "cells": [
  {
   "cell_type": "markdown",
   "id": "3027fba6",
   "metadata": {},
   "source": [
    "#### Load Dataset"
   ]
  },
  {
   "cell_type": "code",
   "execution_count": null,
   "id": "01ecf3df",
   "metadata": {},
   "outputs": [],
   "source": [
    "import pandas as pd\n",
    "\n",
    "books = pd.read_csv(\"dataset/Books.csv\", dtype={'Book-Author': str}, low_memory=False)"
   ]
  },
  {
   "cell_type": "code",
   "execution_count": null,
   "id": "d6ac3e37",
   "metadata": {},
   "outputs": [],
   "source": [
    "books.isnull().sum()"
   ]
  },
  {
   "cell_type": "markdown",
   "id": "a024e657",
   "metadata": {},
   "source": [
    "Remove all duplicated entries and Null Values"
   ]
  },
  {
   "cell_type": "code",
   "execution_count": null,
   "id": "c02dc977",
   "metadata": {},
   "outputs": [],
   "source": [
    "# Remove duplicates based on Title and Author\n",
    "books_unique = books.drop_duplicates(subset=['Book-Title', 'Book-Author'], keep='first')\n",
    "\n",
    "# Reset the index for remaining books\n",
    "books_unique = books_unique.reset_index(drop=True)\n",
    "\n",
    "books = books_unique.copy()"
   ]
  },
  {
   "cell_type": "code",
   "execution_count": null,
   "id": "0fcfa407",
   "metadata": {},
   "outputs": [],
   "source": [
    "books = books.dropna(subset=['Book-Author', 'Publisher', 'Image-URL-L'])"
   ]
  },
  {
   "cell_type": "markdown",
   "id": "f805108a",
   "metadata": {},
   "source": [
    "Slice the data to take only important data"
   ]
  },
  {
   "cell_type": "code",
   "execution_count": null,
   "id": "1532c474",
   "metadata": {},
   "outputs": [],
   "source": [
    "books = books[['ISBN', 'Book-Title', 'Book-Author', 'Publisher', 'Image-URL-L']]"
   ]
  },
  {
   "cell_type": "code",
   "execution_count": null,
   "id": "7e856aa7",
   "metadata": {},
   "outputs": [],
   "source": [
    "# Limit the dataset to the first 10,000 rows to reduce memory usage and improve processing speed\n",
    "books = books.head(10000)\n"
   ]
  },
  {
   "cell_type": "code",
   "execution_count": null,
   "id": "6c2efd8f",
   "metadata": {},
   "outputs": [],
   "source": [
    "books[\"tags\"] = (\n",
    "    books[\"Book-Title\"].astype(str).str.lower() + \" \" +\n",
    "    books[\"Book-Author\"].str.replace(\" \", \"\").str.lower() + \" \" +\n",
    "    books[\"Publisher\"].astype(str).str.replace(\" \", \"\").str.lower()\n",
    ")"
   ]
  },
  {
   "cell_type": "code",
   "execution_count": null,
   "id": "105b5a2d",
   "metadata": {},
   "outputs": [],
   "source": [
    "books_df = books[['ISBN', 'Book-Title', 'Book-Author', 'tags', 'Image-URL-L']]\n",
    "books_df = books_df.rename(columns={\n",
    "    'Book-Title': 'book_title',\n",
    "    'Book-Author': 'book_author',\n",
    "    'Image-URL-L': 'cover_url'\n",
    "})"
   ]
  },
  {
   "cell_type": "code",
   "execution_count": null,
   "id": "4e2545db",
   "metadata": {},
   "outputs": [],
   "source": [
    "books_df.head(1)"
   ]
  },
  {
   "cell_type": "code",
   "execution_count": null,
   "id": "3f656441",
   "metadata": {},
   "outputs": [],
   "source": [
    "# get only root words\n",
    "from nltk.stem.porter import PorterStemmer\n",
    "ps = PorterStemmer()\n",
    "\n",
    "def get_root_words(text):\n",
    "    y = []\n",
    "    for i in text.split():\n",
    "        y.append(ps.stem(i))\n",
    "    return \" \".join(y)"
   ]
  },
  {
   "cell_type": "code",
   "execution_count": null,
   "id": "c378be3c",
   "metadata": {},
   "outputs": [],
   "source": [
    "books_df['tags'] = books_df['tags'].apply(get_root_words)"
   ]
  },
  {
   "cell_type": "code",
   "execution_count": null,
   "id": "35846a7e",
   "metadata": {},
   "outputs": [],
   "source": [
    "# Convert the 'tags' column into a numerical feature matrix using Bag of Words.\n",
    "# Limiting to the 2000 most frequent words and removing common English stopwords.\n",
    "from sklearn.feature_extraction.text import CountVectorizer\n",
    "cv = CountVectorizer(max_features=2000, stop_words='english')\n",
    "vectors = cv.fit_transform(books_df['tags']).toarray()\n"
   ]
  },
  {
   "cell_type": "code",
   "execution_count": null,
   "id": "fa5014d2",
   "metadata": {},
   "outputs": [],
   "source": [
    "cv.get_feature_names_out()"
   ]
  },
  {
   "cell_type": "code",
   "execution_count": null,
   "id": "3c91b7d9",
   "metadata": {},
   "outputs": [],
   "source": [
    "# Compute pairwise cosine similarity between all items in 'vectors' to measure how similar they are to each other\n",
    "from sklearn.metrics.pairwise import cosine_similarity\n",
    "similarity = cosine_similarity(vectors)\n"
   ]
  },
  {
   "cell_type": "code",
   "execution_count": null,
   "id": "7a2baecf",
   "metadata": {},
   "outputs": [],
   "source": [
    "def recommend_books(book):\n",
    "    book_index = books_df[books_df['book_title'] == book].index[0]       \n",
    "    distances = similarity[book_index]\n",
    "        \n",
    "    books_list = sorted(list(enumerate(distances)), reverse=True, key=lambda x: x[1])[1:6]\n",
    "    for i in books_list:\n",
    "        print(books_df.iloc[i[0]].book_title)\n"
   ]
  },
  {
   "cell_type": "code",
   "execution_count": null,
   "id": "1b52c8a9",
   "metadata": {},
   "outputs": [],
   "source": [
    "recommend_books('Classical Mythology')"
   ]
  },
  {
   "cell_type": "code",
   "execution_count": null,
   "id": "26da2789",
   "metadata": {},
   "outputs": [],
   "source": [
    "# Save the computed similarity matrix and book dataset as a pickle file for later use in the app\n",
    "import pickle\n",
    "\n",
    "data_to_save = {\n",
    "    \"similarity\": similarity,\n",
    "    \"books\": books_df\n",
    "}\n",
    "\n",
    "file_path = \"app/models/\"\n",
    "with open(f\"{file_path}model.pkl\", \"wb\") as f:\n",
    "    pickle.dump(data_to_save, f)\n",
    "    print(f\"File Created on path \\\"{file_path}\\\" Successfully. \")\n"
   ]
  }
 ],
 "metadata": {
  "kernelspec": {
   "display_name": "Python 3",
   "language": "python",
   "name": "python3"
  },
  "language_info": {
   "codemirror_mode": {
    "name": "ipython",
    "version": 3
   },
   "file_extension": ".py",
   "mimetype": "text/x-python",
   "name": "python",
   "nbconvert_exporter": "python",
   "pygments_lexer": "ipython3",
   "version": "3.13.7"
  }
 },
 "nbformat": 4,
 "nbformat_minor": 5
}

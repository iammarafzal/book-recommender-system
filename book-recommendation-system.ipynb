{
 "cells": [
  {
   "cell_type": "markdown",
   "id": "3027fba6",
   "metadata": {},
   "source": [
    "#### Load Dataset"
   ]
  },
  {
   "cell_type": "code",
   "execution_count": 169,
   "id": "01ecf3df",
   "metadata": {},
   "outputs": [],
   "source": [
    "import pandas as pd\n",
    "\n",
    "books = pd.read_csv(\"dataset/Books.csv\", dtype={'Book-Author': str}, low_memory=False)"
   ]
  },
  {
   "cell_type": "code",
   "execution_count": 170,
   "id": "d6ac3e37",
   "metadata": {},
   "outputs": [
    {
     "data": {
      "text/plain": [
       "ISBN                   0\n",
       "Book-Title             0\n",
       "Book-Author            2\n",
       "Year-Of-Publication    0\n",
       "Publisher              2\n",
       "Image-URL-S            0\n",
       "Image-URL-M            0\n",
       "Image-URL-L            3\n",
       "dtype: int64"
      ]
     },
     "execution_count": 170,
     "metadata": {},
     "output_type": "execute_result"
    }
   ],
   "source": [
    "books.isnull().sum()"
   ]
  },
  {
   "cell_type": "markdown",
   "id": "a024e657",
   "metadata": {},
   "source": [
    "Remove all duplicated entries and Null Values"
   ]
  },
  {
   "cell_type": "code",
   "execution_count": 171,
   "id": "c02dc977",
   "metadata": {},
   "outputs": [],
   "source": [
    "# Remove duplicates based on Title and Author\n",
    "books_unique = books.drop_duplicates(subset=['Book-Title', 'Book-Author'], keep='first')\n",
    "\n",
    "# Reset the index for remaining books\n",
    "books_unique = books_unique.reset_index(drop=True)\n",
    "\n",
    "books = books_unique.copy()"
   ]
  },
  {
   "cell_type": "code",
   "execution_count": 172,
   "id": "0fcfa407",
   "metadata": {},
   "outputs": [],
   "source": [
    "books = books.dropna(subset=['Book-Author', 'Publisher', 'Image-URL-L'])"
   ]
  },
  {
   "cell_type": "markdown",
   "id": "f805108a",
   "metadata": {},
   "source": [
    "Slice the data to take only important data"
   ]
  },
  {
   "cell_type": "code",
   "execution_count": 173,
   "id": "1532c474",
   "metadata": {},
   "outputs": [],
   "source": [
    "books = books[['ISBN', 'Book-Title', 'Book-Author', 'Publisher', 'Image-URL-L']]"
   ]
  },
  {
   "cell_type": "code",
   "execution_count": 174,
   "id": "7e856aa7",
   "metadata": {},
   "outputs": [],
   "source": [
    "# Limit the dataset to the first 10,000 rows to reduce memory usage and improve processing speed\n",
    "books = books.head(10000)\n"
   ]
  },
  {
   "cell_type": "code",
   "execution_count": 175,
   "id": "6c2efd8f",
   "metadata": {},
   "outputs": [],
   "source": [
    "books[\"tags\"] = (\n",
    "    books[\"Book-Title\"].astype(str).str.lower() + \" \" +\n",
    "    books[\"Book-Author\"].str.replace(\" \", \"\").str.lower() + \" \" +\n",
    "    books[\"Publisher\"].astype(str).str.replace(\" \", \"\").str.lower()\n",
    ")"
   ]
  },
  {
   "cell_type": "code",
   "execution_count": 176,
   "id": "105b5a2d",
   "metadata": {},
   "outputs": [],
   "source": [
    "books_df = books[['ISBN', 'Book-Title', 'Book-Author', 'tags', 'Image-URL-L']]\n",
    "books_df = books_df.rename(columns={\n",
    "    'Book-Title': 'book_title',\n",
    "    'Book-Author': 'book_author',\n",
    "    'Image-URL-L': 'cover_url'\n",
    "})"
   ]
  },
  {
   "cell_type": "code",
   "execution_count": 177,
   "id": "4e2545db",
   "metadata": {},
   "outputs": [
    {
     "data": {
      "text/html": [
       "<div>\n",
       "<style scoped>\n",
       "    .dataframe tbody tr th:only-of-type {\n",
       "        vertical-align: middle;\n",
       "    }\n",
       "\n",
       "    .dataframe tbody tr th {\n",
       "        vertical-align: top;\n",
       "    }\n",
       "\n",
       "    .dataframe thead th {\n",
       "        text-align: right;\n",
       "    }\n",
       "</style>\n",
       "<table border=\"1\" class=\"dataframe\">\n",
       "  <thead>\n",
       "    <tr style=\"text-align: right;\">\n",
       "      <th></th>\n",
       "      <th>ISBN</th>\n",
       "      <th>book_title</th>\n",
       "      <th>book_author</th>\n",
       "      <th>tags</th>\n",
       "      <th>cover_url</th>\n",
       "    </tr>\n",
       "  </thead>\n",
       "  <tbody>\n",
       "    <tr>\n",
       "      <th>0</th>\n",
       "      <td>195153448</td>\n",
       "      <td>Classical Mythology</td>\n",
       "      <td>Mark P. O. Morford</td>\n",
       "      <td>classical mythology markp.o.morford oxforduniv...</td>\n",
       "      <td>http://images.amazon.com/images/P/0195153448.0...</td>\n",
       "    </tr>\n",
       "  </tbody>\n",
       "</table>\n",
       "</div>"
      ],
      "text/plain": [
       "        ISBN           book_title         book_author  \\\n",
       "0  195153448  Classical Mythology  Mark P. O. Morford   \n",
       "\n",
       "                                                tags  \\\n",
       "0  classical mythology markp.o.morford oxforduniv...   \n",
       "\n",
       "                                           cover_url  \n",
       "0  http://images.amazon.com/images/P/0195153448.0...  "
      ]
     },
     "execution_count": 177,
     "metadata": {},
     "output_type": "execute_result"
    }
   ],
   "source": [
    "books_df.head(1)"
   ]
  },
  {
   "cell_type": "code",
   "execution_count": 178,
   "id": "3f656441",
   "metadata": {},
   "outputs": [],
   "source": [
    "# get only root words\n",
    "from nltk.stem.porter import PorterStemmer\n",
    "ps = PorterStemmer()\n",
    "\n",
    "def get_root_words(text):\n",
    "    y = []\n",
    "    for i in text.split():\n",
    "        y.append(ps.stem(i))\n",
    "    return \" \".join(y)"
   ]
  },
  {
   "cell_type": "code",
   "execution_count": 179,
   "id": "c378be3c",
   "metadata": {},
   "outputs": [],
   "source": [
    "books_df['tags'] = books_df['tags'].apply(get_root_words)"
   ]
  },
  {
   "cell_type": "code",
   "execution_count": 180,
   "id": "35846a7e",
   "metadata": {},
   "outputs": [],
   "source": [
    "# Convert the 'tags' column into a numerical feature matrix using Bag of Words.\n",
    "# Limiting to the 2000 most frequent words and removing common English stopwords.\n",
    "from sklearn.feature_extraction.text import CountVectorizer\n",
    "cv = CountVectorizer(max_features=2000, stop_words='english')\n",
    "vectors = cv.fit_transform(books_df['tags']).toarray()\n"
   ]
  },
  {
   "cell_type": "code",
   "execution_count": 181,
   "id": "fa5014d2",
   "metadata": {},
   "outputs": [
    {
     "data": {
      "text/plain": [
       "array(['000', '10', '100', ..., 'â¼bbe', 'â¼ber', 'â¼r'],\n",
       "      shape=(2000,), dtype=object)"
      ]
     },
     "execution_count": 181,
     "metadata": {},
     "output_type": "execute_result"
    }
   ],
   "source": [
    "cv.get_feature_names_out()"
   ]
  },
  {
   "cell_type": "code",
   "execution_count": 182,
   "id": "3c91b7d9",
   "metadata": {},
   "outputs": [],
   "source": [
    "# Compute pairwise cosine similarity between all items in 'vectors' to measure how similar they are to each other\n",
    "from sklearn.metrics.pairwise import cosine_similarity\n",
    "similarity = cosine_similarity(vectors)\n"
   ]
  },
  {
   "cell_type": "code",
   "execution_count": 183,
   "id": "7a2baecf",
   "metadata": {},
   "outputs": [],
   "source": [
    "def recommend_books(book):\n",
    "    book_index = books_df[books_df['book_title'] == book].index[0]       \n",
    "    distances = similarity[book_index]\n",
    "        \n",
    "    books_list = sorted(list(enumerate(distances)), reverse=True, key=lambda x: x[1])[1:6]\n",
    "    for i in books_list:\n",
    "        print(books_df.iloc[i[0]].book_title)\n"
   ]
  },
  {
   "cell_type": "code",
   "execution_count": 184,
   "id": "1b52c8a9",
   "metadata": {},
   "outputs": [
    {
     "name": "stdout",
     "output_type": "stream",
     "text": [
      "The Selfish Gene\n",
      "Classic Whodunits\n",
      "Metaphysical Lyrics Poems 17 Cen\n",
      "Mythology\n",
      "What a Wonderful World: A Lifetime of Recordings\n"
     ]
    }
   ],
   "source": [
    "recommend_books('Classical Mythology')"
   ]
  },
  {
   "cell_type": "code",
   "execution_count": null,
   "id": "26da2789",
   "metadata": {},
   "outputs": [
    {
     "name": "stdout",
     "output_type": "stream",
     "text": [
      "File Created on path \"app/models/\" Successfully. \n"
     ]
    }
   ],
   "source": [
    "# Save the computed similarity matrix and book dataset as a pickle file for later use in the app\n",
    "import pickle\n",
    "\n",
    "data_to_save = {\n",
    "    \"similarity\": similarity,\n",
    "    \"books\": books_df\n",
    "}\n",
    "\n",
    "file_path = \"app/models/\"\n",
    "with open(f\"{file_path}model.pkl\", \"wb\") as f:\n",
    "    pickle.dump(data_to_save, f)\n",
    "    print(f\"File Created on path \\\"{file_path}\\\" Successfully. \")\n"
   ]
  }
 ],
 "metadata": {
  "kernelspec": {
   "display_name": "Python 3",
   "language": "python",
   "name": "python3"
  },
  "language_info": {
   "codemirror_mode": {
    "name": "ipython",
    "version": 3
   },
   "file_extension": ".py",
   "mimetype": "text/x-python",
   "name": "python",
   "nbconvert_exporter": "python",
   "pygments_lexer": "ipython3",
   "version": "3.13.7"
  }
 },
 "nbformat": 4,
 "nbformat_minor": 5
}
